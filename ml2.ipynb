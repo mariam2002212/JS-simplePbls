{
  "nbformat": 4,
  "nbformat_minor": 0,
  "metadata": {
    "colab": {
      "provenance": [],
      "include_colab_link": true
    },
    "kernelspec": {
      "name": "python3",
      "display_name": "Python 3"
    },
    "language_info": {
      "name": "python"
    }
  },
  "cells": [
    {
      "cell_type": "markdown",
      "metadata": {
        "id": "view-in-github",
        "colab_type": "text"
      },
      "source": [
        "<a href=\"https://colab.research.google.com/github/mariam2002212/JS-simplePbls/blob/naive_bayes/ml2.ipynb\" target=\"_parent\"><img src=\"https://colab.research.google.com/assets/colab-badge.svg\" alt=\"Open In Colab\"/></a>"
      ]
    },
    {
      "cell_type": "markdown",
      "source": [
        "load dataset"
      ],
      "metadata": {
        "id": "bTvb8ZunyaYK"
      }
    },
    {
      "cell_type": "code",
      "execution_count": 1,
      "metadata": {
        "colab": {
          "base_uri": "https://localhost:8080/"
        },
        "id": "KBC7RopoyIqq",
        "outputId": "e67af481-c90a-47f1-b733-dc45cd6151ec"
      },
      "outputs": [
        {
          "output_type": "stream",
          "name": "stdout",
          "text": [
            "   Temperature   Humidity  Wind_Speed  Cloud_Cover     Pressure     Rain\n",
            "0    19.096119  71.651723   14.782324    48.699257   987.954760  no rain\n",
            "1    27.112464  84.183705   13.289986    10.375646  1035.430870  no rain\n",
            "2    20.433329  42.290424    7.216295     6.673307  1033.628086  no rain\n",
            "3    19.576659  40.679280    4.568833    55.026758  1038.832300  no rain\n",
            "4    19.828060  93.353211    0.104489    30.687566  1009.423717  no rain\n"
          ]
        }
      ],
      "source": [
        "import pandas as pd\n",
        "data = pd.read_csv('weather_forecast_data.csv')\n",
        "print(data.head())"
      ]
    },
    {
      "cell_type": "markdown",
      "source": [
        "preprocessing"
      ],
      "metadata": {
        "id": "6iQB0jFMyoFk"
      }
    },
    {
      "cell_type": "markdown",
      "source": [
        "first we want to identify the missing data"
      ],
      "metadata": {
        "id": "NwPBcWDByuL3"
      }
    },
    {
      "cell_type": "code",
      "source": [
        "missing_data = data.isnull().sum()\n",
        "print(\"Missing values in each column:\")\n",
        "print(missing_data)"
      ],
      "metadata": {
        "colab": {
          "base_uri": "https://localhost:8080/"
        },
        "id": "4lM3Cgq8ynni",
        "outputId": "55fc7b8d-29e2-48ea-f812-23577cfa1a03"
      },
      "execution_count": 2,
      "outputs": [
        {
          "output_type": "stream",
          "name": "stdout",
          "text": [
            "Missing values in each column:\n",
            "Temperature    25\n",
            "Humidity       40\n",
            "Wind_Speed     32\n",
            "Cloud_Cover    33\n",
            "Pressure       27\n",
            "Rain            0\n",
            "dtype: int64\n"
          ]
        }
      ]
    },
    {
      "cell_type": "markdown",
      "source": [
        "then we want to handle the missing data\n",
        "first, technique--> dropping missing values"
      ],
      "metadata": {
        "id": "CLxy9ugKzEwY"
      }
    },
    {
      "cell_type": "code",
      "source": [
        "dropped_data = data.dropna()\n",
        "print(\"Data after dropping missing values:\")\n",
        "print(dropped_data.head())"
      ],
      "metadata": {
        "colab": {
          "base_uri": "https://localhost:8080/"
        },
        "id": "D6yuautXziIV",
        "outputId": "3d6d25a9-8eb7-43ab-a194-791a399a8d28"
      },
      "execution_count": 3,
      "outputs": [
        {
          "output_type": "stream",
          "name": "stdout",
          "text": [
            "Data after dropping missing values:\n",
            "   Temperature   Humidity  Wind_Speed  Cloud_Cover     Pressure     Rain\n",
            "0    19.096119  71.651723   14.782324    48.699257   987.954760  no rain\n",
            "1    27.112464  84.183705   13.289986    10.375646  1035.430870  no rain\n",
            "2    20.433329  42.290424    7.216295     6.673307  1033.628086  no rain\n",
            "3    19.576659  40.679280    4.568833    55.026758  1038.832300  no rain\n",
            "4    19.828060  93.353211    0.104489    30.687566  1009.423717  no rain\n"
          ]
        }
      ]
    },
    {
      "cell_type": "markdown",
      "source": [
        "second technique, replacing them with the average of the feature.\"handled both numerical features and non numerical features\""
      ],
      "metadata": {
        "id": "At-ma3_Oz64T"
      }
    },
    {
      "cell_type": "markdown",
      "source": [
        "1st, Separate numeric and non-numeric features"
      ],
      "metadata": {
        "id": "8avejSFn3zB1"
      }
    },
    {
      "cell_type": "code",
      "source": [
        "numeric_features = data.select_dtypes(include=['number']).columns\n",
        "non_numeric_features = data.select_dtypes(exclude=['number']).columns"
      ],
      "metadata": {
        "id": "msQtsPtQ0BPy"
      },
      "execution_count": 4,
      "outputs": []
    },
    {
      "cell_type": "markdown",
      "source": [
        "2nd, calc avg value for numeric features"
      ],
      "metadata": {
        "id": "U2A7V4Qw4NP8"
      }
    },
    {
      "cell_type": "code",
      "source": [
        "data_replaced = data.copy()\n",
        "data_replaced[numeric_features] = data_replaced[numeric_features].fillna(data_replaced[numeric_features].mean())"
      ],
      "metadata": {
        "id": "w-RixXtG4Sfj"
      },
      "execution_count": 5,
      "outputs": []
    },
    {
      "cell_type": "markdown",
      "source": [
        "3rd, handle non numeric features \"using mode, is used for categorical data in our case\"\n"
      ],
      "metadata": {
        "id": "7ddHstnM4Uoq"
      }
    },
    {
      "cell_type": "code",
      "source": [
        "for feature in non_numeric_features:\n",
        "    data_replaced[feature] = data_replaced[feature].fillna(data_replaced[feature].mode()[0])"
      ],
      "metadata": {
        "id": "PG7rG8wg5YgM"
      },
      "execution_count": 6,
      "outputs": []
    },
    {
      "cell_type": "code",
      "source": [
        "print(\"\\nData after replacing missing values with the average of the feature:\")\n",
        "print(data_replaced.head())"
      ],
      "metadata": {
        "colab": {
          "base_uri": "https://localhost:8080/"
        },
        "id": "_kgrCNGr6Ou9",
        "outputId": "98e5d4bf-d322-40b1-d55c-77816143d128"
      },
      "execution_count": 7,
      "outputs": [
        {
          "output_type": "stream",
          "name": "stdout",
          "text": [
            "\n",
            "Data after replacing missing values with the average of the feature:\n",
            "   Temperature   Humidity  Wind_Speed  Cloud_Cover     Pressure     Rain\n",
            "0    19.096119  71.651723   14.782324    48.699257   987.954760  no rain\n",
            "1    27.112464  84.183705   13.289986    10.375646  1035.430870  no rain\n",
            "2    20.433329  42.290424    7.216295     6.673307  1033.628086  no rain\n",
            "3    19.576659  40.679280    4.568833    55.026758  1038.832300  no rain\n",
            "4    19.828060  93.353211    0.104489    30.687566  1009.423717  no rain\n"
          ]
        }
      ]
    },
    {
      "cell_type": "markdown",
      "source": [
        "Splitting our data to training and testing for training and evaluating our\n",
        "models"
      ],
      "metadata": {
        "id": "skgW_3uH_L5i"
      }
    },
    {
      "cell_type": "markdown",
      "source": [
        "train/test split \"on non handled data\""
      ],
      "metadata": {
        "id": "39tcdDKJpUqx"
      }
    },
    {
      "cell_type": "code",
      "source": [
        "from sklearn.model_selection import train_test_split\n",
        "\n",
        "features = data.iloc[:, :-1]\n",
        "target = data.iloc[:, -1] #akher column hwa eltarget w elba2y features\n",
        "\n",
        "feature_train, feature_test, target_train, target_test = train_test_split(features, target, test_size=0.2, random_state=20)\n",
        "print(\"\\nTraining set size:\", feature_train.shape)\n",
        "print(\"Testing set size:\", feature_test.shape)"
      ],
      "metadata": {
        "id": "Sd---CMhpZrR",
        "outputId": "81d7b58b-a842-46a4-ba20-6c8c67dfbf64",
        "colab": {
          "base_uri": "https://localhost:8080/"
        }
      },
      "execution_count": 8,
      "outputs": [
        {
          "output_type": "stream",
          "name": "stdout",
          "text": [
            "\n",
            "Training set size: (2000, 5)\n",
            "Testing set size: (500, 5)\n"
          ]
        }
      ]
    },
    {
      "cell_type": "code",
      "source": [],
      "metadata": {
        "id": "doJgD-2A75sV"
      },
      "execution_count": null,
      "outputs": []
    },
    {
      "cell_type": "markdown",
      "source": [
        "train/test split\"on the handeled data with the dropping missing data technique\""
      ],
      "metadata": {
        "id": "BEo8VZiyAPYZ"
      }
    },
    {
      "cell_type": "code",
      "source": [
        "from sklearn.model_selection import train_test_split\n",
        "\n",
        "features = dropped_data.iloc[:, :-1]\n",
        "target = dropped_data.iloc[:, -1] #akher column hwa eltarget w elba2y features\n",
        "\n",
        "feature_train, feature_test, target_train, target_test = train_test_split(features, target, test_size=0.2, random_state=24)\n",
        "print(\"\\nTraining set size:\", feature_train.shape)\n",
        "print(\"Testing set size:\", feature_test.shape)"
      ],
      "metadata": {
        "colab": {
          "base_uri": "https://localhost:8080/"
        },
        "id": "tWfRd5Uv_NXl",
        "outputId": "d2b65836-0189-4e51-ecee-c118e0820f39"
      },
      "execution_count": null,
      "outputs": [
        {
          "output_type": "stream",
          "name": "stdout",
          "text": [
            "\n",
            "Training set size: (1877, 5)\n",
            "Testing set size: (470, 5)\n"
          ]
        }
      ]
    },
    {
      "cell_type": "markdown",
      "source": [
        "train/test split\"on the handeled data with the replacing missing data technique\""
      ],
      "metadata": {
        "id": "X8zVFx3qm3wV"
      }
    },
    {
      "cell_type": "code",
      "source": [
        "from sklearn.model_selection import train_test_split\n",
        "\n",
        "features = data_replaced.iloc[:, :-1]\n",
        "target = data_replaced.iloc[:, -1] #akher column hwa eltarget w elba2y features\n",
        "\n",
        "feature_train, feature_test, target_train, target_test = train_test_split(features, target, test_size=0.2, random_state=20)\n",
        "print(\"\\nTraining set size:\", feature_train.shape)\n",
        "print(\"Testing set size:\", feature_test.shape)"
      ],
      "metadata": {
        "colab": {
          "base_uri": "https://localhost:8080/"
        },
        "id": "2U2CrpKLnAVV",
        "outputId": "4e1e20f1-3fa7-4d7e-b595-98e73810b5ad"
      },
      "execution_count": 9,
      "outputs": [
        {
          "output_type": "stream",
          "name": "stdout",
          "text": [
            "\n",
            "Training set size: (2000, 5)\n",
            "Testing set size: (500, 5)\n"
          ]
        }
      ]
    },
    {
      "cell_type": "markdown",
      "source": [
        "feature scaling"
      ],
      "metadata": {
        "id": "rAYAj7qgCsUu"
      }
    },
    {
      "cell_type": "markdown",
      "source": [
        "Scale the numeric features in the training set"
      ],
      "metadata": {
        "id": "AxEBpU3xEhAf"
      }
    },
    {
      "cell_type": "code",
      "source": [
        "from sklearn.preprocessing import StandardScaler\n",
        "\n",
        "scaler = StandardScaler()\n",
        "feature_train_numeric = feature_train[numeric_features]\n",
        "feature_train_scaled = scaler.fit_transform(feature_train_numeric)\n",
        "\n",
        "feature_train[numeric_features] = feature_train_scaled\n",
        "\n",
        "print(\"Scaled Training Data:\")\n",
        "print(feature_train.head())"
      ],
      "metadata": {
        "colab": {
          "base_uri": "https://localhost:8080/"
        },
        "id": "rnsJNoIwA9-v",
        "outputId": "cd969224-fab7-4c39-80cd-b81a09c8c733"
      },
      "execution_count": 10,
      "outputs": [
        {
          "output_type": "stream",
          "name": "stdout",
          "text": [
            "Scaled Training Data:\n",
            "      Temperature  Humidity  Wind_Speed  Cloud_Cover  Pressure\n",
            "2202    -0.237315  0.654273   -1.241286     1.549968  1.510454\n",
            "766      0.841933  0.833311    0.475375    -1.621552  0.587481\n",
            "714      0.484786 -0.598567   -0.139037    -0.007912  0.683722\n",
            "1801     0.990528  0.848930    1.215065     1.518362  0.724690\n",
            "2038    -1.736248 -0.627525   -1.401278    -0.678779 -0.474909\n"
          ]
        }
      ]
    },
    {
      "cell_type": "markdown",
      "source": [
        "Scale the numeric features in the testing set"
      ],
      "metadata": {
        "id": "ELcrzmIMEio7"
      }
    },
    {
      "cell_type": "code",
      "source": [
        "feature_test_numeric = feature_test[numeric_features]\n",
        "feature_test_scaled = scaler.transform(feature_test_numeric)\n",
        "\n",
        "feature_test[numeric_features] = feature_test_scaled\n",
        "\n",
        "print(\"Scaled Testing Data:\")\n",
        "print(feature_test.head())"
      ],
      "metadata": {
        "colab": {
          "base_uri": "https://localhost:8080/"
        },
        "id": "vI7aGm7wEqob",
        "outputId": "674d72c3-5874-49c1-94aa-b0930022ad90"
      },
      "execution_count": 11,
      "outputs": [
        {
          "output_type": "stream",
          "name": "stdout",
          "text": [
            "Scaled Testing Data:\n",
            "      Temperature  Humidity  Wind_Speed  Cloud_Cover  Pressure\n",
            "1760    -1.503473 -0.728458   -1.706502     0.587725  0.315251\n",
            "2345    -0.739630  0.974453    1.495514     1.457237  1.669529\n",
            "2370    -0.420437  1.479228   -1.463625     0.236463 -1.395475\n",
            "187      1.595409 -0.396737   -1.326121    -0.007912 -1.633859\n",
            "1911    -1.367837 -0.195413   -1.245203    -0.050356  1.143972\n"
          ]
        }
      ]
    },
    {
      "cell_type": "markdown",
      "source": [
        "implement decision tree"
      ],
      "metadata": {
        "id": "ZF7OSiBpLlEO"
      }
    },
    {
      "cell_type": "markdown",
      "source": [
        "i got accuracy \"using dropped data\": 0.9957\n"
      ],
      "metadata": {
        "id": "-OWuIuI2yCVS"
      }
    },
    {
      "cell_type": "markdown",
      "source": [
        "i got accuracy \"using replaced data\": 0.9860"
      ],
      "metadata": {
        "id": "L4YiPidgyou4"
      }
    },
    {
      "cell_type": "code",
      "source": [
        "from sklearn.tree import DecisionTreeClassifier\n",
        "from sklearn.metrics import accuracy_score, precision_score, recall_score, classification_report\n",
        "\n",
        "decision_tree_model = DecisionTreeClassifier(random_state = 20)\n",
        "\n",
        "decision_tree_model.fit(feature_train, target_train)#train el model\n",
        "predicted_target = decision_tree_model.predict(feature_test)\n",
        "\n",
        "accuracy = accuracy_score(target_test, predicted_target)\n",
        "print(f\"Accuracy: {accuracy:.4f}\")"
      ],
      "metadata": {
        "colab": {
          "base_uri": "https://localhost:8080/"
        },
        "id": "l2KRaaEqLpOS",
        "outputId": "63035273-a522-4a1e-e67f-059769a37c2b"
      },
      "execution_count": 12,
      "outputs": [
        {
          "output_type": "stream",
          "name": "stdout",
          "text": [
            "Accuracy: 0.9860\n"
          ]
        }
      ]
    },
    {
      "cell_type": "markdown",
      "source": [
        "Precision\n",
        "Definition: The ratio of correctly predicted positive instances to the total predicted positives.\n",
        "Meaning: Measures how many of the predicted positives are actually correct.\n",
        "Accuracy\n",
        "Definition: The ratio of correctly predicted instances to the total number of instances.\n",
        "Meaning: Measures how often the model is correct overall.\n",
        "Recall (Sensitivity or True Positive Rate)\n",
        "Definition: The ratio of correctly predicted positive instances to all actual positives.\n",
        "Meaning: Measures how many of the actual positives were correctly identified.\n"
      ],
      "metadata": {
        "id": "ep47mzBtCAOi"
      }
    },
    {
      "cell_type": "code",
      "source": [
        "from sklearn.naive_bayes import GaussianNB\n",
        "from sklearn.metrics import accuracy_score, precision_score, recall_score, classification_report\n",
        "\n",
        "naive_bayes_model = GaussianNB()\n",
        "\n",
        "naive_bayes_model.fit(feature_train, target_train)\n",
        "#naive_bayes_model.partial_fit(feature_train, target_train, classes=target_train.unique())\n",
        "predicted_target = naive_bayes_model.predict(feature_test)\n",
        "\n",
        "accuracy = accuracy_score(target_test, predicted_target)\n",
        "#accuracy=naive_bayes_model.score(feature_test, target_test)\n",
        "precision=precision_score(target_test, predicted_target, average='weighted')\n",
        "recall=recall_score(target_test, predicted_target, average='weighted')\n",
        "print(f\"Accuracy: {accuracy:.4f}\")\n",
        "print(f\"recall: {recall:.4f}\")\n",
        "print(f\"precision: {precision:.4f}\")"
      ],
      "metadata": {
        "id": "i5KnrBjD78Uw",
        "outputId": "057ec9cf-1b6e-4ef6-8813-2e44690a520e",
        "colab": {
          "base_uri": "https://localhost:8080/"
        }
      },
      "execution_count": 22,
      "outputs": [
        {
          "output_type": "stream",
          "name": "stdout",
          "text": [
            "Accuracy: 0.9500\n",
            "recall: 0.9500\n",
            "precision: 0.9527\n"
          ]
        }
      ]
    },
    {
      "cell_type": "markdown",
      "source": [
        "i got accuracy of 95 using"
      ],
      "metadata": {
        "id": "I_bJMBwx-BLn"
      }
    },
    {
      "cell_type": "code",
      "source": [],
      "metadata": {
        "id": "IWU77Eaw9Z2N"
      },
      "execution_count": null,
      "outputs": []
    }
  ]
}