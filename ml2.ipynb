{
  "nbformat": 4,
  "nbformat_minor": 0,
  "metadata": {
    "colab": {
      "provenance": [],
      "authorship_tag": "ABX9TyMTCurFSW+NMUuyEWu1/Dw3",
      "include_colab_link": true
    },
    "kernelspec": {
      "name": "python3",
      "display_name": "Python 3"
    },
    "language_info": {
      "name": "python"
    }
  },
  "cells": [
    {
      "cell_type": "markdown",
      "metadata": {
        "id": "view-in-github",
        "colab_type": "text"
      },
      "source": [
        "<a href=\"https://colab.research.google.com/github/mariam2002212/JS-simplePbls/blob/main/ml2.ipynb\" target=\"_parent\"><img src=\"https://colab.research.google.com/assets/colab-badge.svg\" alt=\"Open In Colab\"/></a>"
      ]
    },
    {
      "cell_type": "markdown",
      "source": [
        "load dataset"
      ],
      "metadata": {
        "id": "bTvb8ZunyaYK"
      }
    },
    {
      "cell_type": "code",
      "execution_count": null,
      "metadata": {
        "colab": {
          "base_uri": "https://localhost:8080/"
        },
        "id": "KBC7RopoyIqq",
        "outputId": "3f71179c-fca0-461c-8cbd-a7466d13849b"
      },
      "outputs": [
        {
          "output_type": "stream",
          "name": "stdout",
          "text": [
            "   Temperature   Humidity  Wind_Speed  Cloud_Cover     Pressure     Rain\n",
            "0    19.096119  71.651723   14.782324    48.699257   987.954760  no rain\n",
            "1    27.112464  84.183705   13.289986    10.375646  1035.430870  no rain\n",
            "2    20.433329  42.290424    7.216295     6.673307  1033.628086  no rain\n",
            "3    19.576659  40.679280    4.568833    55.026758  1038.832300  no rain\n",
            "4    19.828060  93.353211    0.104489    30.687566  1009.423717  no rain\n"
          ]
        }
      ],
      "source": [
        "import pandas as pd\n",
        "data = pd.read_csv('weather_forecast_data.csv')\n",
        "print(data.head())"
      ]
    },
    {
      "cell_type": "markdown",
      "source": [
        "preprocessing"
      ],
      "metadata": {
        "id": "6iQB0jFMyoFk"
      }
    },
    {
      "cell_type": "markdown",
      "source": [
        "first we want to identify the missing data"
      ],
      "metadata": {
        "id": "NwPBcWDByuL3"
      }
    },
    {
      "cell_type": "code",
      "source": [
        "missing_data = data.isnull().sum()\n",
        "print(\"Missing values in each column:\")\n",
        "print(missing_data)"
      ],
      "metadata": {
        "colab": {
          "base_uri": "https://localhost:8080/"
        },
        "id": "4lM3Cgq8ynni",
        "outputId": "88c9a56d-1063-484e-91b8-b14fc0d2a102"
      },
      "execution_count": null,
      "outputs": [
        {
          "output_type": "stream",
          "name": "stdout",
          "text": [
            "Missing values in each column:\n",
            "Temperature    25\n",
            "Humidity       40\n",
            "Wind_Speed     32\n",
            "Cloud_Cover    33\n",
            "Pressure       27\n",
            "Rain            0\n",
            "dtype: int64\n"
          ]
        }
      ]
    },
    {
      "cell_type": "markdown",
      "source": [
        "then we want to handle the missing data\n",
        "first, technique--> dropping missing values"
      ],
      "metadata": {
        "id": "CLxy9ugKzEwY"
      }
    },
    {
      "cell_type": "code",
      "source": [
        "dropped_data = data.dropna()\n",
        "print(\"Data after dropping missing values:\")\n",
        "print(dropped_data.head())"
      ],
      "metadata": {
        "colab": {
          "base_uri": "https://localhost:8080/"
        },
        "id": "D6yuautXziIV",
        "outputId": "881e14d8-253d-4868-a547-985aace0768f"
      },
      "execution_count": null,
      "outputs": [
        {
          "output_type": "stream",
          "name": "stdout",
          "text": [
            "Data after dropping missing values:\n",
            "   Temperature   Humidity  Wind_Speed  Cloud_Cover     Pressure     Rain\n",
            "0    19.096119  71.651723   14.782324    48.699257   987.954760  no rain\n",
            "1    27.112464  84.183705   13.289986    10.375646  1035.430870  no rain\n",
            "2    20.433329  42.290424    7.216295     6.673307  1033.628086  no rain\n",
            "3    19.576659  40.679280    4.568833    55.026758  1038.832300  no rain\n",
            "4    19.828060  93.353211    0.104489    30.687566  1009.423717  no rain\n"
          ]
        }
      ]
    },
    {
      "cell_type": "markdown",
      "source": [
        "second technique, replacing them with the average of the feature.\"handled both numerical features and non numerical features\""
      ],
      "metadata": {
        "id": "At-ma3_Oz64T"
      }
    },
    {
      "cell_type": "markdown",
      "source": [
        "1st, Separate numeric and non-numeric features"
      ],
      "metadata": {
        "id": "8avejSFn3zB1"
      }
    },
    {
      "cell_type": "code",
      "source": [
        "numeric_features = data.select_dtypes(include=['number']).columns\n",
        "non_numeric_features = data.select_dtypes(exclude=['number']).columns"
      ],
      "metadata": {
        "id": "msQtsPtQ0BPy"
      },
      "execution_count": null,
      "outputs": []
    },
    {
      "cell_type": "markdown",
      "source": [
        "2nd, calc avg value for numeric features"
      ],
      "metadata": {
        "id": "U2A7V4Qw4NP8"
      }
    },
    {
      "cell_type": "code",
      "source": [
        "data_replaced = data.copy()\n",
        "data_replaced[numeric_features] = data_replaced[numeric_features].fillna(data_replaced[numeric_features].mean())"
      ],
      "metadata": {
        "id": "w-RixXtG4Sfj"
      },
      "execution_count": null,
      "outputs": []
    },
    {
      "cell_type": "markdown",
      "source": [
        "3rd, handle non numeric features \"using mode, is used for categorical data in our case\"\n"
      ],
      "metadata": {
        "id": "7ddHstnM4Uoq"
      }
    },
    {
      "cell_type": "code",
      "source": [
        "for feature in non_numeric_features:\n",
        "    data_replaced[feature] = data_replaced[feature].fillna(data_replaced[feature].mode()[0])"
      ],
      "metadata": {
        "id": "PG7rG8wg5YgM"
      },
      "execution_count": null,
      "outputs": []
    },
    {
      "cell_type": "code",
      "source": [
        "print(\"\\nData after replacing missing values with the average of the feature:\")\n",
        "print(data.head())"
      ],
      "metadata": {
        "colab": {
          "base_uri": "https://localhost:8080/"
        },
        "id": "_kgrCNGr6Ou9",
        "outputId": "01ee111b-1ca8-4f4f-c79a-a9088cb8b77f"
      },
      "execution_count": null,
      "outputs": [
        {
          "output_type": "stream",
          "name": "stdout",
          "text": [
            "\n",
            "Data after replacing missing values with the average of the feature:\n",
            "   Temperature   Humidity  Wind_Speed  Cloud_Cover     Pressure     Rain\n",
            "0    19.096119  71.651723   14.782324    48.699257   987.954760  no rain\n",
            "1    27.112464  84.183705   13.289986    10.375646  1035.430870  no rain\n",
            "2    20.433329  42.290424    7.216295     6.673307  1033.628086  no rain\n",
            "3    19.576659  40.679280    4.568833    55.026758  1038.832300  no rain\n",
            "4    19.828060  93.353211    0.104489    30.687566  1009.423717  no rain\n"
          ]
        }
      ]
    },
    {
      "cell_type": "markdown",
      "source": [
        "Splitting our data to training and testing for training and evaluating our\n",
        "models"
      ],
      "metadata": {
        "id": "skgW_3uH_L5i"
      }
    },
    {
      "cell_type": "markdown",
      "source": [
        "train/test split"
      ],
      "metadata": {
        "id": "BEo8VZiyAPYZ"
      }
    },
    {
      "cell_type": "code",
      "source": [
        "from sklearn.model_selection import train_test_split\n",
        "\n",
        "features = data.iloc[:, :-1]\n",
        "target = data.iloc[:, -1] #akher column hwa eltarget w elba2y features\n",
        "\n",
        "feature_train, feature_test, target_train, target_test = train_test_split(features, target, test_size=0.2, random_state=20)\n",
        "print(\"\\nTraining set size:\", feature_train.shape)\n",
        "print(\"Testing set size:\", feature_test.shape)"
      ],
      "metadata": {
        "colab": {
          "base_uri": "https://localhost:8080/"
        },
        "id": "tWfRd5Uv_NXl",
        "outputId": "0d37ea7c-3b3f-4480-c5ba-5e588aa70839"
      },
      "execution_count": null,
      "outputs": [
        {
          "output_type": "stream",
          "name": "stdout",
          "text": [
            "\n",
            "Training set size: (2000, 5)\n",
            "Testing set size: (500, 5)\n"
          ]
        }
      ]
    },
    {
      "cell_type": "markdown",
      "source": [
        "feature scaling"
      ],
      "metadata": {
        "id": "rAYAj7qgCsUu"
      }
    },
    {
      "cell_type": "markdown",
      "source": [
        "Scale the numeric features in the training set"
      ],
      "metadata": {
        "id": "AxEBpU3xEhAf"
      }
    },
    {
      "cell_type": "code",
      "source": [
        "from sklearn.preprocessing import StandardScaler\n",
        "\n",
        "scaler = StandardScaler()\n",
        "feature_train_numeric = feature_train[numeric_features]\n",
        "feature_train_scaled = scaler.fit_transform(feature_train_numeric)\n",
        "\n",
        "feature_train[numeric_features] = feature_train_scaled\n",
        "\n",
        "print(\"Scaled Training Data:\")\n",
        "print(feature_train.head())"
      ],
      "metadata": {
        "colab": {
          "base_uri": "https://localhost:8080/"
        },
        "id": "rnsJNoIwA9-v",
        "outputId": "0d198507-b053-415d-8feb-bdc6907bb3b9"
      },
      "execution_count": null,
      "outputs": [
        {
          "output_type": "stream",
          "name": "stdout",
          "text": [
            "Scaled Training Data:\n",
            "      Temperature  Humidity  Wind_Speed  Cloud_Cover  Pressure\n",
            "2202    -0.236241  0.649045   -1.233287     1.540939  1.501493\n",
            "766      0.837869  0.826690    0.472179    -1.612293  0.583840\n",
            "714      0.482423 -0.594048   -0.138226          NaN  0.679527\n",
            "1801     0.985756  0.842187    1.207046     1.509516  0.720259\n",
            "2038    -1.728037 -0.622781   -1.392236    -0.674957 -0.472427\n"
          ]
        }
      ]
    },
    {
      "cell_type": "markdown",
      "source": [
        "Scale the numeric features in the testing set"
      ],
      "metadata": {
        "id": "ELcrzmIMEio7"
      }
    },
    {
      "cell_type": "code",
      "source": [
        "feature_test_numeric = feature_test[numeric_features]\n",
        "feature_test_scaled = scaler.transform(feature_test_numeric)\n",
        "\n",
        "feature_test[numeric_features] = feature_test_scaled\n",
        "\n",
        "print(\"Scaled Testing Data:\")\n",
        "print(feature_test.head())"
      ],
      "metadata": {
        "colab": {
          "base_uri": "https://localhost:8080/"
        },
        "id": "vI7aGm7wEqob",
        "outputId": "0f3b706a-82a9-4c2d-9936-0c13d925a87e"
      },
      "execution_count": null,
      "outputs": [
        {
          "output_type": "stream",
          "name": "stdout",
          "text": [
            "Scaled Testing Data:\n",
            "      Temperature  Humidity  Wind_Speed  Cloud_Cover  Pressure\n",
            "1760    -1.496370 -0.722929   -1.695469     0.584244  0.313179\n",
            "2345    -0.736163  0.966734    1.485667     1.448742  1.659652\n",
            "2370    -0.418491  1.467582   -1.454176     0.235008 -1.387687\n",
            "187      1.587758 -0.393788   -1.317569          NaN -1.624697\n",
            "1911    -1.361379 -0.194031   -1.237179    -0.050157  1.137124\n"
          ]
        }
      ]
    },
    {
      "cell_type": "markdown",
      "source": [
        "implement decision tree"
      ],
      "metadata": {
        "id": "ZF7OSiBpLlEO"
      }
    },
    {
      "cell_type": "code",
      "source": [
        "from sklearn.tree import DecisionTreeClassifier\n",
        "from sklearn.metrics import accuracy_score, precision_score, recall_score, classification_report\n",
        "\n",
        "decision_tree_model = DecisionTreeClassifier(random_state = 40)\n",
        "\n",
        "decision_tree_model.fit(feature_train, target_train)#train el model\n",
        "predicted_target = decision_tree_model.predict(feature_test)\n",
        "\n",
        "accuracy = accuracy_score(target_test, predicted_target)\n",
        "print(f\"Accuracy: {accuracy:.4f}\")"
      ],
      "metadata": {
        "colab": {
          "base_uri": "https://localhost:8080/"
        },
        "id": "l2KRaaEqLpOS",
        "outputId": "3633e655-ab05-409f-fd50-3c9c4a1fd829"
      },
      "execution_count": null,
      "outputs": [
        {
          "output_type": "stream",
          "name": "stdout",
          "text": [
            "Accuracy: 0.9860\n"
          ]
        }
      ]
    }
  ]
}