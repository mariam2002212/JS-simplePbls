{
  "nbformat": 4,
  "nbformat_minor": 0,
  "metadata": {
    "colab": {
      "provenance": [],
      "authorship_tag": "ABX9TyOwJbmfIDQ+Ws44Ev1EFEhZ",
      "include_colab_link": true
    },
    "kernelspec": {
      "name": "python3",
      "display_name": "Python 3"
    },
    "language_info": {
      "name": "python"
    }
  },
  "cells": [
    {
      "cell_type": "markdown",
      "metadata": {
        "id": "view-in-github",
        "colab_type": "text"
      },
      "source": [
        "<a href=\"https://colab.research.google.com/github/mariam2002212/JS-simplePbls/blob/main/ml2.ipynb\" target=\"_parent\"><img src=\"https://colab.research.google.com/assets/colab-badge.svg\" alt=\"Open In Colab\"/></a>"
      ]
    },
    {
      "cell_type": "markdown",
      "source": [
        "load dataset"
      ],
      "metadata": {
        "id": "bTvb8ZunyaYK"
      }
    },
    {
      "cell_type": "code",
      "execution_count": 30,
      "metadata": {
        "colab": {
          "base_uri": "https://localhost:8080/"
        },
        "id": "KBC7RopoyIqq",
        "outputId": "232d3f5c-2075-4508-c6e4-40aae0d1f253"
      },
      "outputs": [
        {
          "output_type": "stream",
          "name": "stdout",
          "text": [
            "   Temperature   Humidity  Wind_Speed  Cloud_Cover     Pressure     Rain\n",
            "0    19.096119  71.651723   14.782324    48.699257   987.954760  no rain\n",
            "1    27.112464  84.183705   13.289986    10.375646  1035.430870  no rain\n",
            "2    20.433329  42.290424    7.216295     6.673307  1033.628086  no rain\n",
            "3    19.576659  40.679280    4.568833    55.026758  1038.832300  no rain\n",
            "4    19.828060  93.353211    0.104489    30.687566  1009.423717  no rain\n"
          ]
        }
      ],
      "source": [
        "import pandas as pd\n",
        "data = pd.read_csv('weather_forecast_data.csv')\n",
        "print(data.head())"
      ]
    },
    {
      "cell_type": "markdown",
      "source": [
        "preprocessing"
      ],
      "metadata": {
        "id": "6iQB0jFMyoFk"
      }
    },
    {
      "cell_type": "markdown",
      "source": [
        "first we want to identify the missing data"
      ],
      "metadata": {
        "id": "NwPBcWDByuL3"
      }
    },
    {
      "cell_type": "code",
      "source": [
        "missing_data = data.isnull().sum()\n",
        "print(\"Missing values in each column:\")\n",
        "print(missing_data)"
      ],
      "metadata": {
        "colab": {
          "base_uri": "https://localhost:8080/"
        },
        "id": "4lM3Cgq8ynni",
        "outputId": "5009f42c-dd94-485b-9b14-acb0841c4b0b"
      },
      "execution_count": 31,
      "outputs": [
        {
          "output_type": "stream",
          "name": "stdout",
          "text": [
            "Missing values in each column:\n",
            "Temperature    25\n",
            "Humidity       40\n",
            "Wind_Speed     32\n",
            "Cloud_Cover    33\n",
            "Pressure       27\n",
            "Rain            0\n",
            "dtype: int64\n"
          ]
        }
      ]
    },
    {
      "cell_type": "markdown",
      "source": [
        "then we want to handle the missing data\n",
        "first, technique--> dropping missing values"
      ],
      "metadata": {
        "id": "CLxy9ugKzEwY"
      }
    },
    {
      "cell_type": "code",
      "source": [
        "dropped_data = data.dropna()\n",
        "print(\"Data after dropping missing values:\")\n",
        "print(dropped_data.head())"
      ],
      "metadata": {
        "colab": {
          "base_uri": "https://localhost:8080/"
        },
        "id": "D6yuautXziIV",
        "outputId": "c89f960b-3f59-4cf3-f625-ea475c4226bc"
      },
      "execution_count": 19,
      "outputs": [
        {
          "output_type": "stream",
          "name": "stdout",
          "text": [
            "Data after dropping missing values:\n",
            "   Temperature   Humidity  Wind_Speed  Cloud_Cover     Pressure     Rain\n",
            "0    19.096119  71.651723   14.782324    48.699257   987.954760  no rain\n",
            "1    27.112464  84.183705   13.289986    10.375646  1035.430870  no rain\n",
            "2    20.433329  42.290424    7.216295     6.673307  1033.628086  no rain\n",
            "3    19.576659  40.679280    4.568833    55.026758  1038.832300  no rain\n",
            "4    19.828060  93.353211    0.104489    30.687566  1009.423717  no rain\n"
          ]
        }
      ]
    },
    {
      "cell_type": "markdown",
      "source": [
        "second technique, replacing them with the average of the feature.\"handled both numerical features and non numerical features\""
      ],
      "metadata": {
        "id": "At-ma3_Oz64T"
      }
    },
    {
      "cell_type": "markdown",
      "source": [
        "1st, Separate numeric and non-numeric features"
      ],
      "metadata": {
        "id": "8avejSFn3zB1"
      }
    },
    {
      "cell_type": "code",
      "source": [
        "numeric_features = data.select_dtypes(include=['number']).columns\n",
        "non_numeric_features = data.select_dtypes(exclude=['number']).columns"
      ],
      "metadata": {
        "id": "msQtsPtQ0BPy"
      },
      "execution_count": 20,
      "outputs": []
    },
    {
      "cell_type": "markdown",
      "source": [
        "2nd, calc avg value for numeric features"
      ],
      "metadata": {
        "id": "U2A7V4Qw4NP8"
      }
    },
    {
      "cell_type": "code",
      "source": [
        "data_replaced = data.copy()\n",
        "data_replaced[numeric_features] = data_replaced[numeric_features].fillna(data_replaced[numeric_features].mean())"
      ],
      "metadata": {
        "id": "w-RixXtG4Sfj"
      },
      "execution_count": 21,
      "outputs": []
    },
    {
      "cell_type": "markdown",
      "source": [
        "3rd, handle non numeric features \"using mode, is used for categorical data in our case\"\n"
      ],
      "metadata": {
        "id": "7ddHstnM4Uoq"
      }
    },
    {
      "cell_type": "code",
      "source": [
        "for feature in non_numeric_features:\n",
        "    data_replaced[feature] = data_replaced[feature].fillna(data_replaced[feature].mode()[0])"
      ],
      "metadata": {
        "id": "PG7rG8wg5YgM"
      },
      "execution_count": 22,
      "outputs": []
    },
    {
      "cell_type": "code",
      "source": [
        "print(\"\\nData after replacing missing values with the average of the feature:\")\n",
        "print(data_replaced.head())"
      ],
      "metadata": {
        "colab": {
          "base_uri": "https://localhost:8080/"
        },
        "id": "_kgrCNGr6Ou9",
        "outputId": "50ce9cde-5822-40fc-8b5b-c3b915e547f6"
      },
      "execution_count": 23,
      "outputs": [
        {
          "output_type": "stream",
          "name": "stdout",
          "text": [
            "\n",
            "Data after replacing missing values with the average of the feature:\n",
            "   Temperature   Humidity  Wind_Speed  Cloud_Cover     Pressure     Rain\n",
            "0    19.096119  71.651723   14.782324    48.699257   987.954760  no rain\n",
            "1    27.112464  84.183705   13.289986    10.375646  1035.430870  no rain\n",
            "2    20.433329  42.290424    7.216295     6.673307  1033.628086  no rain\n",
            "3    19.576659  40.679280    4.568833    55.026758  1038.832300  no rain\n",
            "4    19.828060  93.353211    0.104489    30.687566  1009.423717  no rain\n"
          ]
        }
      ]
    },
    {
      "cell_type": "markdown",
      "source": [
        "Splitting our data to training and testing for training and evaluating our\n",
        "models"
      ],
      "metadata": {
        "id": "skgW_3uH_L5i"
      }
    },
    {
      "cell_type": "markdown",
      "source": [
        "train/test split \"on non handled data\""
      ],
      "metadata": {
        "id": "39tcdDKJpUqx"
      }
    },
    {
      "cell_type": "code",
      "source": [
        "from sklearn.model_selection import train_test_split\n",
        "\n",
        "features = data.iloc[:, :-1]\n",
        "target = data.iloc[:, -1] #akher column hwa eltarget w elba2y features\n",
        "\n",
        "feature_train, feature_test, target_train, target_test = train_test_split(features, target, test_size=0.2, random_state=20)\n",
        "print(\"\\nTraining set size:\", feature_train.shape)\n",
        "print(\"Testing set size:\", feature_test.shape)"
      ],
      "metadata": {
        "id": "Sd---CMhpZrR"
      },
      "execution_count": null,
      "outputs": []
    },
    {
      "cell_type": "markdown",
      "source": [
        "train/test split\"on the handeled data with the dropping missing data technique\""
      ],
      "metadata": {
        "id": "BEo8VZiyAPYZ"
      }
    },
    {
      "cell_type": "code",
      "source": [
        "from sklearn.model_selection import train_test_split\n",
        "\n",
        "features = dropped_data.iloc[:, :-1]\n",
        "target = dropped_data.iloc[:, -1] #akher column hwa eltarget w elba2y features\n",
        "\n",
        "feature_train, feature_test, target_train, target_test = train_test_split(features, target, test_size=0.2, random_state=24)\n",
        "print(\"\\nTraining set size:\", feature_train.shape)\n",
        "print(\"Testing set size:\", feature_test.shape)"
      ],
      "metadata": {
        "colab": {
          "base_uri": "https://localhost:8080/"
        },
        "id": "tWfRd5Uv_NXl",
        "outputId": "d2b65836-0189-4e51-ecee-c118e0820f39"
      },
      "execution_count": 75,
      "outputs": [
        {
          "output_type": "stream",
          "name": "stdout",
          "text": [
            "\n",
            "Training set size: (1877, 5)\n",
            "Testing set size: (470, 5)\n"
          ]
        }
      ]
    },
    {
      "cell_type": "markdown",
      "source": [
        "train/test split\"on the handeled data with the replacing missing data technique\""
      ],
      "metadata": {
        "id": "X8zVFx3qm3wV"
      }
    },
    {
      "cell_type": "code",
      "source": [
        "from sklearn.model_selection import train_test_split\n",
        "\n",
        "features = data_replaced.iloc[:, :-1]\n",
        "target = data_replaced.iloc[:, -1] #akher column hwa eltarget w elba2y features\n",
        "\n",
        "feature_train, feature_test, target_train, target_test = train_test_split(features, target, test_size=0.2, random_state=20)\n",
        "print(\"\\nTraining set size:\", feature_train.shape)\n",
        "print(\"Testing set size:\", feature_test.shape)"
      ],
      "metadata": {
        "colab": {
          "base_uri": "https://localhost:8080/"
        },
        "id": "2U2CrpKLnAVV",
        "outputId": "e6af1ae6-dcd4-4a43-a1ed-94f0d2d03bf8"
      },
      "execution_count": 38,
      "outputs": [
        {
          "output_type": "stream",
          "name": "stdout",
          "text": [
            "\n",
            "Training set size: (2000, 5)\n",
            "Testing set size: (500, 5)\n"
          ]
        }
      ]
    },
    {
      "cell_type": "markdown",
      "source": [
        "feature scaling"
      ],
      "metadata": {
        "id": "rAYAj7qgCsUu"
      }
    },
    {
      "cell_type": "markdown",
      "source": [
        "Scale the numeric features in the training set"
      ],
      "metadata": {
        "id": "AxEBpU3xEhAf"
      }
    },
    {
      "cell_type": "code",
      "source": [
        "from sklearn.preprocessing import StandardScaler\n",
        "\n",
        "scaler = StandardScaler()\n",
        "feature_train_numeric = feature_train[numeric_features]\n",
        "feature_train_scaled = scaler.fit_transform(feature_train_numeric)\n",
        "\n",
        "feature_train[numeric_features] = feature_train_scaled\n",
        "\n",
        "print(\"Scaled Training Data:\")\n",
        "print(feature_train.head())"
      ],
      "metadata": {
        "colab": {
          "base_uri": "https://localhost:8080/"
        },
        "id": "rnsJNoIwA9-v",
        "outputId": "07ba4d60-4885-44b3-fb20-b1d74dc06218"
      },
      "execution_count": 60,
      "outputs": [
        {
          "output_type": "stream",
          "name": "stdout",
          "text": [
            "Scaled Training Data:\n",
            "      Temperature  Humidity  Wind_Speed  Cloud_Cover  Pressure\n",
            "1393     0.316341  0.953360   -0.773017    -0.293621 -0.844798\n",
            "44      -0.882151 -0.800889   -1.348096    -1.429369 -1.202206\n",
            "1087     0.717007  0.128807    0.437261     1.432991 -1.148291\n",
            "1268     0.400735 -1.680496   -0.577251     0.048602  1.221948\n",
            "1801     1.002973  0.843221    1.197734     1.517268  0.749780\n"
          ]
        }
      ]
    },
    {
      "cell_type": "markdown",
      "source": [
        "Scale the numeric features in the testing set"
      ],
      "metadata": {
        "id": "ELcrzmIMEio7"
      }
    },
    {
      "cell_type": "code",
      "source": [
        "feature_test_numeric = feature_test[numeric_features]\n",
        "feature_test_scaled = scaler.transform(feature_test_numeric)\n",
        "\n",
        "feature_test[numeric_features] = feature_test_scaled\n",
        "\n",
        "print(\"Scaled Testing Data:\")\n",
        "print(feature_test.head())"
      ],
      "metadata": {
        "colab": {
          "base_uri": "https://localhost:8080/"
        },
        "id": "vI7aGm7wEqob",
        "outputId": "48ca40b1-86cf-49e5-f5fa-c78cef3016b3"
      },
      "execution_count": 61,
      "outputs": [
        {
          "output_type": "stream",
          "name": "stdout",
          "text": [
            "Scaled Testing Data:\n",
            "      Temperature  Humidity  Wind_Speed  Cloud_Cover  Pressure\n",
            "689     -0.715958 -0.428289   -1.670461     1.489984 -0.658674\n",
            "1037     0.128353  0.014122   -0.647950     1.466338 -0.472686\n",
            "1422    -1.489486 -1.145145    0.982570     1.054588 -0.937307\n",
            "1557    -0.152608  0.679646    1.497272    -0.374085  0.413014\n",
            "1419    -0.672651  0.024019   -1.530189     1.537018  1.442861\n"
          ]
        }
      ]
    },
    {
      "cell_type": "markdown",
      "source": [
        "implement decision tree"
      ],
      "metadata": {
        "id": "ZF7OSiBpLlEO"
      }
    },
    {
      "cell_type": "code",
      "source": [
        "from sklearn.tree import DecisionTreeClassifier\n",
        "from sklearn.metrics import accuracy_score, precision_score, recall_score, classification_report\n",
        "\n",
        "decision_tree_model = DecisionTreeClassifier(random_state = 20)\n",
        "\n",
        "decision_tree_model.fit(feature_train, target_train)#train el model\n",
        "predicted_target = decision_tree_model.predict(feature_test)\n",
        "\n",
        "accuracy = accuracy_score(target_test, predicted_target)\n",
        "print(f\"Accuracy: {accuracy:.4f}\")"
      ],
      "metadata": {
        "colab": {
          "base_uri": "https://localhost:8080/"
        },
        "id": "l2KRaaEqLpOS",
        "outputId": "885aaf8e-dc30-427a-9474-c0b0aaed5309"
      },
      "execution_count": 76,
      "outputs": [
        {
          "output_type": "stream",
          "name": "stdout",
          "text": [
            "Accuracy: 0.9957\n"
          ]
        }
      ]
    }
  ]
}